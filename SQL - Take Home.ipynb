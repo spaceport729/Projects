{
 "cells": [
  {
   "cell_type": "markdown",
   "metadata": {},
   "source": [
    "|customers          | Data type |    | subscriptions     | Data type |    | views           | Data type  |\n",
    "|-------------------|-----------|    |-------------------|-----------|    |-----------------|------------|\n",
    "|   customer_id     | int       |    |   customer_id     | int       |    | video_name      | varchar    |\n",
    "|   customer_name   | varchar   |    |   start_date      | timestamp |    | viewing_duration| float      |\n",
    "|   customer_email  | varchar   |    |   end_date        | timestamp |    | customer_id     | int        |\n",
    "|   signup_at       | timestamp |    |   is_paid         | bool      |    | start_at        | timestamp  |\n",
    "|   billing_zip     | int       |    |   is_active       | bool      |    | genre           | varchar    |\n",
    "|   is_referral     | bool      |    |                   |           |    |                 |            |\n"
   ]
  },
  {
   "cell_type": "markdown",
   "metadata": {},
   "source": [
    "Do people watch more videos after converting from unpaid to paid membership?\n",
    "\n",
    "1. Who has converted from unpaid to paid membership\n",
    "    Tables needed: subscriptions\n",
    "    Fields needed: is_paid, customer_id, end_date(unpaid), start_date(paid)\n",
    "    Return: table with customer_id\n",
    "2. Count of number of videos watched for each subscription - must join on start_at and start/end\n",
    "    - output: customer_id, count field views, is_paid\n",
    "3. Average of counts for paid and unpaid\n",
    "4. Boolean output of yes or no depending on whether average counts higher for paid versus unpaid\n",
    "   Select\n",
    "       case when paid_avg_views > unpaid_avg_views then 'yes'\n",
    "       else 'no'"
   ]
  },
  {
   "cell_type": "markdown",
   "metadata": {},
   "source": [
    "Do people watch more videos after converting from unpaid to paid membership?"
   ]
  },
  {
   "cell_type": "markdown",
   "metadata": {},
   "source": [
    "1. Select customer_id, start_date, end_date, Rank() (Partition Over customer_id Order By end_date) As rank\n",
    "   From: subscriptions\n",
    "   \n",
    "2. Select: views.customer_id, subscriptions.is_paid, count(views.customer_id)\n",
    "   From: views\n",
    "cte join on (start_at between start/end) subscriptions with count with group by customer_id, is_paid"
   ]
  },
  {
   "cell_type": "markdown",
   "metadata": {},
   "source": [
    "Do paid users prefer different genres of videos than unpaid users?"
   ]
  },
  {
   "cell_type": "markdown",
   "metadata": {},
   "source": [
    "~~~~sql\n",
    "SELECT w.id, wp.age, w.coins_needed, w.power wand_power\n",
    "FROM Wands w\n",
    "JOIN Wands_Property wp\n",
    "ON w.code = wp.code\n",
    "WHERE w.code != 1 AND (SELECT MIN(w.coins_needed), wp.age, w.power,w.code FROM w JOIN wp ON w.code = wp.code GROUP BY wp.age,w.power,w.code)\n",
    "GROUP BY w.coins_needed, w.id, min_cost.age, w.power\n",
    "ORDER BY w.power DESC, min_cost.age DESC\n",
    "\n",
    "\n",
    "~~~~"
   ]
  },
  {
   "cell_type": "markdown",
   "metadata": {},
   "source": [
    "What are the most popular videos for our 100 most frequent viewers? What percentage of those users are paid for each video?"
   ]
  },
  {
   "cell_type": "code",
   "execution_count": null,
   "metadata": {
    "collapsed": true
   },
   "outputs": [],
   "source": []
  }
 ],
 "metadata": {
  "kernelspec": {
   "display_name": "Python 3",
   "language": "python",
   "name": "python3"
  },
  "language_info": {
   "codemirror_mode": {
    "name": "ipython",
    "version": 3
   },
   "file_extension": ".py",
   "mimetype": "text/x-python",
   "name": "python",
   "nbconvert_exporter": "python",
   "pygments_lexer": "ipython3",
   "version": "3.6.0"
  }
 },
 "nbformat": 4,
 "nbformat_minor": 2
}
